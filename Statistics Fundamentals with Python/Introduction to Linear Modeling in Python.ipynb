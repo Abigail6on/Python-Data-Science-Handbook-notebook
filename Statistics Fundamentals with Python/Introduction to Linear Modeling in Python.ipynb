{
 "cells": [
  {
   "cell_type": "markdown",
   "metadata": {},
   "source": [
    "### Models as description "
   ]
  },
  {
   "cell_type": "code",
   "execution_count": null,
   "metadata": {},
   "outputs": [],
   "source": [
    "# in miles \n",
    "y_range = np.max(y) - np.min(y)\n",
    "# in hours\n",
    "x_range = np.max(x) - np.min(x)\n",
    "\n",
    "# estimating speed \n",
    "mph = y_range / x_range"
   ]
  },
  {
   "cell_type": "markdown",
   "metadata": {},
   "source": [
    "### Model predictions "
   ]
  },
  {
   "cell_type": "code",
   "execution_count": null,
   "metadata": {},
   "outputs": [],
   "source": [
    "# model predicts distance is 300 miles in 6 hours\n",
    "time = 6\n",
    "distance = 300 * time \n",
    "\n",
    "def model(time):\n",
    "    return 50 * time \n",
    "predict_distance = model(time = 10)"
   ]
  },
  {
   "cell_type": "markdown",
   "metadata": {},
   "source": [
    "### Interpolation \n",
    "* One common use of modeling is interpolation to determine a value \"inside\" or \"in between\" the measured data points."
   ]
  },
  {
   "cell_type": "code",
   "execution_count": null,
   "metadata": {},
   "outputs": [],
   "source": [
    "# Compute the total change in distance and change in time\n",
    "total_distance = distances[-1] - distances[0]\n",
    "total_time = times[-1] - times[0]\n",
    "\n",
    "# Estimate the slope of the data from the ratio of the changes\n",
    "average_speed = total_distance / total_time\n",
    "\n",
    "# Predict the distance traveled for a time not measured\n",
    "elapse_time = 2.5\n",
    "distance_traveled = average_speed * elapse_time\n",
    "print(\"The distance traveled is {}\".format(distance_traveled))\n",
    "\n",
    "# Select a time not measured.\n",
    "time = 8\n",
    "\n",
    "# Use the model to compute a predicted distance for that time.\n",
    "distance = model(time)\n",
    "\n",
    "# Inspect the value of the predicted distance traveled.\n",
    "print(distance)\n",
    "\n",
    "# Determine if you will make it without refueling.\n",
    "answer = (distance <= 400)\n",
    "print(answer)"
   ]
  },
  {
   "cell_type": "code",
   "execution_count": null,
   "metadata": {},
   "outputs": [],
   "source": [
    "# Complete the function to model the efficiency.\n",
    "def efficiency_model(miles, gallons):\n",
    "   return np.mean( miles / gallons )\n",
    "\n",
    "# Use the function to estimate the efficiency for each car.\n",
    "car1['mpg'] = efficiency_model(car1['miles'] , car1['gallons'] )\n",
    "car2['mpg'] = efficiency_model(car2['miles'] , car2['gallons'] )\n",
    "\n",
    "# Finish the logic statement to compare the car efficiencies.\n",
    "if car1['mpg'] > car2['mpg'] :\n",
    "    print('car1 is the best')\n",
    "elif car1['mpg'] < car2['mpg'] :\n",
    "    print('car2 is the best')\n",
    "else:\n",
    "    print('the cars have the same efficiency')"
   ]
  },
  {
   "cell_type": "markdown",
   "metadata": {},
   "source": [
    "### Visualizing Linear Relationship"
   ]
  },
  {
   "cell_type": "code",
   "execution_count": null,
   "metadata": {},
   "outputs": [],
   "source": [
    "import matplotlib.pyplot as plt\n",
    "fig, axis = plt.subplots()\n",
    "options = dict(marker = 'o', color = 'blue')\n",
    "\n",
    "line = axis.plot(x, y, **options)"
   ]
  },
  {
   "cell_type": "code",
   "execution_count": null,
   "metadata": {},
   "outputs": [],
   "source": [
    "# Create figure and axis objects using subplots()\n",
    "fig, axis = plt.subplots()\n",
    "\n",
    "# Plot line using the axis.plot() method\n",
    "line = axis.plot(times , distances , linestyle=\" \", marker=\"o\", color=\"red\")\n",
    "\n",
    "# Use the plt.show() method to display the figure\n",
    "plt.show()"
   ]
  },
  {
   "cell_type": "code",
   "execution_count": null,
   "metadata": {},
   "outputs": [],
   "source": [
    "# Pass times and measured distances into model\n",
    "model_distances = model(times, measured_distances)\n",
    "\n",
    "# Create figure and axis objects and call axis.plot() twice to plot data and model distances versus times\n",
    "fig, axis = plt.subplots()\n",
    "axis.plot(times, measured_distances, linestyle=\" \", marker=\"o\", color=\"black\", label=\"Measured\")\n",
    "axis.plot(times, model_distances, linestyle=\"-\", marker=None, color=\"red\", label=\"Modeled\")\n",
    "\n",
    "# Add grid lines and a legend to your plot, and then show to display\n",
    "axis.grid(True)\n",
    "axis.legend(loc=\"best\")\n",
    "plt.show()"
   ]
  },
  {
   "cell_type": "code",
   "execution_count": null,
   "metadata": {},
   "outputs": [],
   "source": [
    "# Look at the plot data and guess initial trial values\n",
    "trial_slope = 1\n",
    "trial_intercept = 2\n",
    "\n",
    "# input thoses guesses into the model function to compute the model values.\n",
    "xm, ym = model(trial_intercept, trial_slope)\n",
    "\n",
    "# Compare your your model to the data with the plot function\n",
    "fig = plot_data_and_model(xd, yd, xm, ym)\n",
    "plt.show()\n",
    "\n",
    "# Repeat the steps above until your slope and intercept guess makes the model line up with the data.\n",
    "final_slope = 1\n",
    "final_intercept = 2"
   ]
  },
  {
   "cell_type": "markdown",
   "metadata": {},
   "source": [
    "### Quantifying Linear relationships\n"
   ]
  },
  {
   "cell_type": "code",
   "execution_count": null,
   "metadata": {},
   "outputs": [],
   "source": [
    "import numpy as np\n",
    "mean = sum(x)/len(x)\n",
    "# Deviation\n",
    "dx = x - np.mean(x)\n",
    "# Variance \n",
    "var = np.mean(dx*dx)\n",
    "# Standard deviation \n",
    "stdev = np.sqrt(variance)\n",
    "# Covariance \n",
    "dx = x - np.mean(x)\n",
    "dy = y - np.mean(y)\n",
    "\n",
    "deviation_products = dx * dy\n",
    "covariance = np.mean(dx * dy)\n",
    "# Correlation \n",
    "zx = dx / np.std(x)\n",
    "zy = dy / np/std(y)\n",
    "correlation = np.mean(zx * zy)"
   ]
  },
  {
   "cell_type": "code",
   "execution_count": null,
   "metadata": {},
   "outputs": [],
   "source": [
    "# Define the general model as a function\n",
    "def model(x, a0=3, a1=2, a2=0):\n",
    "    return a0 + (a1*x) + (a2*x*x)\n",
    "\n",
    "# Generate array x, then predict y values for specific, non-default a0 and a1\n",
    "x = np.linspace(-10, 10, 21)\n",
    "y = model(x)\n",
    "\n",
    "# Plot the results, ym versus x\n",
    "fig = plot_prediction(x, y)"
   ]
  },
  {
   "cell_type": "code",
   "execution_count": null,
   "metadata": {},
   "outputs": [],
   "source": [
    "# Complete the plotting function definition\n",
    "def plot_data_with_model(xd, yd, ym):\n",
    "    fig = plot_data(xd, yd)  # plot measured y data\n",
    "    fig.axes[0].plot(xd, ym, color='red')  # over-plot modeled y data\n",
    "    plt.show()\n",
    "    return fig\n",
    "\n",
    "# Select new model parameters a0, a1, and generate modeled `ym` from them.\n",
    "a0 = 150\n",
    "a1 = 25\n",
    "ym = model(xd, a0, a1)\n",
    "\n",
    "# Plot the resulting model to see whether it fits the data\n",
    "fig = plot_data_with_model(xd, yd, ym)"
   ]
  },
  {
   "cell_type": "markdown",
   "metadata": {},
   "source": [
    "### Interpreting Slope and Intercept"
   ]
  },
  {
   "cell_type": "code",
   "execution_count": null,
   "metadata": {},
   "outputs": [],
   "source": [
    "# Complete the function to convert C to F\n",
    "def convert_scale(temps_C):\n",
    "    (freeze_C, boil_C) = (0, 100)\n",
    "    (freeze_F, boil_F) = (32, 212)\n",
    "    change_in_C = boil_C - freeze_C\n",
    "    change_in_F = boil_F - freeze_F\n",
    "    slope = change_in_F / change_in_C\n",
    "    intercept = freeze_F - freeze_C\n",
    "    temps_F = intercept + (slope * temps_C)\n",
    "    return temps_F\n",
    "\n",
    "# Use the convert function to compute values of F and plot them\n",
    "temps_C = np.linspace(0, 100, 101)\n",
    "temps_F = convert_scale(temps_C)\n",
    "fig = plot_temperatures(temps_C, temps_F)"
   ]
  },
  {
   "cell_type": "code",
   "execution_count": null,
   "metadata": {},
   "outputs": [],
   "source": [
    "# Compute an array of velocities as the slope between each point\n",
    "diff_distances = np.diff(distances)\n",
    "diff_times = np.diff(times)\n",
    "velocities = diff_distances / diff_times\n",
    "\n",
    "# Chracterize the center and spread of the velocities\n",
    "v_avg = np.mean(velocities)\n",
    "v_max = np.max(velocities)\n",
    "v_min = np.min(velocities)\n",
    "v_range = v_max - v_min\n",
    "\n",
    "# Plot the distribution of velocities\n",
    "fig = plot_velocity_timeseries(times[1:], velocities)"
   ]
  },
  {
   "cell_type": "code",
   "execution_count": null,
   "metadata": {},
   "outputs": [],
   "source": [
    "# Import ols from statsmodels, and fit a model to the data\n",
    "from statsmodels.formula.api import ols\n",
    "model_fit = ols(formula=\"masses ~ volumes\", data=df)\n",
    "model_fit = model_fit.fit()\n",
    "\n",
    "# Extract the model parameter values, and assign them to a0, a1\n",
    "a0 = model_fit.params['Intercept']\n",
    "a1 = model_fit.params['volumes']\n",
    "\n",
    "# Print model parameter values with meaningful names, and compare to summary()\n",
    "print( \"container_mass   = {:0.4f}\".format(a0) )\n",
    "print( \"solution_density = {:0.4f}\".format(a1) )\n",
    "print( model_fit.summary() )"
   ]
  },
  {
   "cell_type": "markdown",
   "metadata": {},
   "source": [
    "### Model Optimization "
   ]
  },
  {
   "cell_type": "code",
   "execution_count": null,
   "metadata": {},
   "outputs": [],
   "source": [
    "residuals_squared = np.square(y_model - y_data)\n",
    "RSS = np.sum(residuals_squared)"
   ]
  },
  {
   "cell_type": "code",
   "execution_count": null,
   "metadata": {},
   "outputs": [],
   "source": [
    "# Load the data\n",
    "x_data, y_data = load_data()\n",
    "\n",
    "# Model the data with specified values for parameters a0, a1\n",
    "y_model = model(x_data, a0=150, a1=25)\n",
    "\n",
    "# Compute the RSS value for this parameterization of the model\n",
    "rss = np.sum(np.square(y_data - y_model))\n",
    "print(\"RSS = {}\".format(rss))"
   ]
  },
  {
   "cell_type": "code",
   "execution_count": null,
   "metadata": {},
   "outputs": [],
   "source": [
    "# Loop over all trial values in a1_array, computing rss for each\n",
    "a1_array = np.linspace(15, 35, 101)\n",
    "for a1_trial in a1_array:\n",
    "    y_model = model(x_data, a0=150, a1=a1_trial)\n",
    "    rss_value = compute_rss(y_data, y_model)\n",
    "    rss_list.append(rss_value)\n",
    "\n",
    "# Find the minimum RSS and the a1 value from whence it came\n",
    "rss_array = np.array(rss_list)\n",
    "best_rss = np.min(rss_array) \n",
    "best_a1 = a1_array[np.where(rss_array==best_rss)]\n",
    "print('The minimum RSS = {}, came from a1 = {}'.format(best_rss, best_a1))\n",
    "\n",
    "# Plot your rss and a1 values to confirm answer\n",
    "fig = plot_rss_vs_a1(a1_array, rss_array)"
   ]
  },
  {
   "cell_type": "markdown",
   "metadata": {},
   "source": [
    "### Least squares Optimization"
   ]
  },
  {
   "cell_type": "code",
   "execution_count": null,
   "metadata": {},
   "outputs": [],
   "source": [
    "# Optimized by numpy \n",
    "x_mean = np.mean(x)\n",
    "y_mean = np.mena(y)\n",
    "\n",
    "x_dev = x - x_mean\n",
    "y_dev = y - y_mean\n",
    "\n",
    "a1 = np.sum(x_dev * y_dev) / np.sum(x_dev ** 2)\n",
    "a0 = y_mean - (a1 * x_mean)"
   ]
  },
  {
   "cell_type": "code",
   "execution_count": null,
   "metadata": {},
   "outputs": [],
   "source": [
    "# Optimized by Scipy \n",
    "from scipy import optimize \n",
    "\n",
    "x_data, y_data = load_data()\n",
    "def model_func(x1, a0, a1):\n",
    "    return a0 + (a1 * x)\n",
    "\n",
    "param_opt, param_cov = optimize.curve_fit(model_func, a0, a1)\n",
    "a0 = param_opt[0]\n",
    "a1 = parma_opt[1]"
   ]
  },
  {
   "cell_type": "code",
   "execution_count": null,
   "metadata": {},
   "outputs": [],
   "source": [
    "# Optimized by statsmodels \n",
    "from statsmodels.formula.api import ols\n",
    "\n",
    "x_data, y_data = load_data()\n",
    "df = pd.DataFrame(dict(x_name = x_data, y_name = y_data))\n",
    "\n",
    "model_fit = ols(formula = 'y_name ~ x_name', data = df).fit()\n",
    "y_model = model_fit.predict(df)\n",
    "x_model = x_data\n",
    "\n",
    "a0 = model_fit.params['Intercept']\n",
    "a1 = model_fit.params['x_name']"
   ]
  },
  {
   "cell_type": "code",
   "execution_count": null,
   "metadata": {},
   "outputs": [],
   "source": [
    "# prepare the means and deviations of the two variables\n",
    "x_mean = np.mean(x)\n",
    "y_mean = np.mean(y)\n",
    "x_dev = x - x_mean\n",
    "y_dev = y - y_mean\n",
    "\n",
    "# Complete least-squares formulae to find the optimal a0, a1\n",
    "a1 = np.sum(x_dev * y_dev) / np.sum( np.square(x_dev) )\n",
    "a0 = y_mean - (a1 * x_mean)\n",
    "\n",
    "# Use the those optimal model parameters a0, a1 to build a model\n",
    "y_model = model(x, a0, a1)\n",
    "\n",
    "# plot to verify that the resulting y_model best fits the data y\n",
    "fig, rss = compute_rss_and_plot_fit(a0, a1)"
   ]
  },
  {
   "cell_type": "code",
   "execution_count": null,
   "metadata": {},
   "outputs": [],
   "source": [
    "# Pass data and `formula` into ols(), use and `.fit()` the model to the data\n",
    "model_fit = ols(formula=\"y_column ~ x_column\", data=df).fit()\n",
    "\n",
    "# Use .predict(df) to get y_model values, then over-plot y_data with y_model\n",
    "y_model = model_fit.predict(df)\n",
    "fig = plot_data_with_model(x_data, y_data, y_model)\n",
    "\n",
    "# Extract the a0, a1 values from model_fit.params\n",
    "a0 = model_fit.params['Intercept']\n",
    "a1 = model_fit.params['x_column']\n",
    "\n",
    "# Visually verify that these parameters a0, a1 give the minimum RSS\n",
    "fig, rss = compute_rss_and_plot_fit(a0, a1)"
   ]
  },
  {
   "cell_type": "markdown",
   "metadata": {},
   "source": [
    "### Modeling with real data "
   ]
  },
  {
   "cell_type": "code",
   "execution_count": null,
   "metadata": {},
   "outputs": [],
   "source": [
    "from sklearn.linear_model import LinearRegression\n",
    "model = LinearRegression(fit_intercept = True)\n",
    "\n",
    "x_row, y_row = load_data()\n",
    "x_data = x_row.reshape(len(y_row), 1)\n",
    "y_data = y_row.reshape(len(y_row), 1)\n",
    "\n",
    "model_fit = model.fit(x_data, y_data)"
   ]
  },
  {
   "cell_type": "markdown",
   "metadata": {},
   "source": [
    "### Predictions and Parameters"
   ]
  },
  {
   "cell_type": "code",
   "execution_count": null,
   "metadata": {},
   "outputs": [],
   "source": [
    "intercept = model.intercept_[0]\n",
    "slope = model.coef_[0, 0]\n",
    "\n",
    "future_x = 2100\n",
    "future_y = model.predict(future_x)"
   ]
  },
  {
   "cell_type": "code",
   "execution_count": null,
   "metadata": {},
   "outputs": [],
   "source": [
    "# statsmodels\n",
    "x, y = load_data()\n",
    "df = pd.DataFrame(dict(times = x_data, distances = y_data))\n",
    "fig = df.plot('times', 'distances')\n",
    "\n",
    "model_fit = ols(formula = 'distance ~ times', data = df).fit()"
   ]
  },
  {
   "cell_type": "code",
   "execution_count": null,
   "metadata": {},
   "outputs": [],
   "source": [
    "a0 = model_fit.params['Intercept']\n",
    "a1 = model_fit.params['times']\n",
    "\n",
    "e0 = model_fit.bse['Intercept']\n",
    "e1 = model_fit.bse['times']\n",
    "\n",
    "intercept = a0\n",
    "slope = a1\n",
    "uncertainty_in_intercept = e0\n",
    "uncertainty_in_slope = e1"
   ]
  },
  {
   "cell_type": "code",
   "execution_count": null,
   "metadata": {},
   "outputs": [],
   "source": [
    "# build and fit a model to the df_monthly data\n",
    "model_fit = ols('Close ~ DayCount', data=df_monthly).fit()\n",
    "\n",
    "# Use the model FIT to the MONTHLY data to make a predictions for both monthly and daily data\n",
    "df_monthly['Model'] = model_fit.predict(df_monthly.DayCount)\n",
    "df_daily['Model'] = model_fit.predict(df_daily.DayCount)\n",
    "\n",
    "# Plot the monthly and daily data and model, compare the RSS values seen on the figures\n",
    "fig_monthly = plot_model_with_data(df_monthly)\n",
    "fig_daily = plot_model_with_data(df_daily)"
   ]
  },
  {
   "cell_type": "code",
   "execution_count": null,
   "metadata": {},
   "outputs": [],
   "source": [
    "# Compute the residuals, \"data - model\", and determine where [residuals < tolerance]\n",
    "residuals = np.abs(y_data - y_model)\n",
    "tolerance = 100\n",
    "x_good = x_data[residuals < tolerance]\n",
    "\n",
    "# Find the min and max of the \"good\" values, and plot y_data, y_model, and the tolerance range\n",
    "print('Minimum good x value = {}'.format(np.min(x_good)))\n",
    "print('Maximum good x value = {}'.format(np.max(x_good)))\n",
    "fig = plot_data_model_tolerance(x_data, y_data, y_model, tolerance)"
   ]
  },
  {
   "cell_type": "markdown",
   "metadata": {},
   "source": [
    "### 3 Different R's\n",
    "Building models:\n",
    "   * RSS\n",
    "   \n",
    "Evaluating models:\n",
    "   * RMSE\n",
    "   * R-squared"
   ]
  },
  {
   "cell_type": "code",
   "execution_count": null,
   "metadata": {},
   "outputs": [],
   "source": [
    "# RMSE\n",
    "residuals = y_model - y_data\n",
    "RSS = np.sum(np.square(residuals))\n",
    "mean_squared_residuals = np.sum(np.square(residuals)) / len(residuals)\n",
    "MSE = np.mean(np.square(residuals))\n",
    "RMSE = np.sqrt(np.mean(np.square(residuals)))"
   ]
  },
  {
   "cell_type": "code",
   "execution_count": null,
   "metadata": {},
   "outputs": [],
   "source": [
    "# R-Squared in Code \n",
    "deviations = np.mean(y_data) - y_data\n",
    "VAR = np.sum(np.square(deviations))\n",
    "\n",
    "residuals = y_model - y_data\n",
    "RSS = np.sum(np.square(residuals))\n",
    "\n",
    "r_squared = 1 - (RSS / VAR)\n",
    "r = correlation(y_data, y_model)"
   ]
  },
  {
   "cell_type": "markdown",
   "metadata": {},
   "source": [
    "### RMSE vs R-Squared\n",
    "* RMSE: how much variation is residual \n",
    "* R-Squared: what fraction of variation is inear"
   ]
  },
  {
   "cell_type": "markdown",
   "metadata": {},
   "source": [
    "### Standard Error \n"
   ]
  }
 ],
 "metadata": {
  "kernelspec": {
   "display_name": "Python 3",
   "language": "python",
   "name": "python3"
  },
  "language_info": {
   "codemirror_mode": {
    "name": "ipython",
    "version": 3
   },
   "file_extension": ".py",
   "mimetype": "text/x-python",
   "name": "python",
   "nbconvert_exporter": "python",
   "pygments_lexer": "ipython3",
   "version": "3.7.4"
  }
 },
 "nbformat": 4,
 "nbformat_minor": 2
}
