{
 "cells": [
  {
   "cell_type": "code",
   "execution_count": null,
   "metadata": {},
   "outputs": [],
   "source": [
    "ri.dropna(subset = ['stop_date', 'stop_time'], inplace = True)\n",
    "\n",
    "apple.date.str.replace('/', '-')\n",
    "combined = apple.date.str.cat(apple.time, sep = ' ')\n",
    "\n",
    "# Search for a string\n",
    "ri['inventory'] = ri.search_type.str.contains('Inventory', na = False)\n",
    "\n",
    "# Access datetime attribute\n",
    "apple.date_and_time.dt.month\n",
    "apple.price.resample('M').mean()\n",
    "\n",
    "mapping = {'up':True, 'down':False}\n",
    "apple['is_up'] = apple.change.map(mapping)"
   ]
  }
 ],
 "metadata": {
  "kernelspec": {
   "display_name": "Python 3",
   "language": "python",
   "name": "python3"
  },
  "language_info": {
   "codemirror_mode": {
    "name": "ipython",
    "version": 3
   },
   "file_extension": ".py",
   "mimetype": "text/x-python",
   "name": "python",
   "nbconvert_exporter": "python",
   "pygments_lexer": "ipython3",
   "version": "3.7.4"
  }
 },
 "nbformat": 4,
 "nbformat_minor": 2
}
